{
 "cells": [
  {
   "cell_type": "code",
   "execution_count": 7,
   "metadata": {},
   "outputs": [],
   "source": [
    "import time\n",
    "from datetime import datetime\n"
   ]
  },
  {
   "cell_type": "code",
   "execution_count": 8,
   "metadata": {},
   "outputs": [
    {
     "ename": "NameError",
     "evalue": "name 'pytz' is not defined",
     "output_type": "error",
     "traceback": [
      "\u001b[1;31m---------------------------------------------------------------------------\u001b[0m",
      "\u001b[1;31mNameError\u001b[0m                                 Traceback (most recent call last)",
      "Cell \u001b[1;32mIn[8], line 1\u001b[0m\n\u001b[1;32m----> 1\u001b[0m KST \u001b[38;5;241m=\u001b[39m \u001b[43mpytz\u001b[49m\u001b[38;5;241m.\u001b[39mtimezone(\u001b[38;5;124m'\u001b[39m\u001b[38;5;124mAsia/Seoul\u001b[39m\u001b[38;5;124m'\u001b[39m)\n\u001b[0;32m      2\u001b[0m date \u001b[38;5;241m=\u001b[39m datetime\u001b[38;5;241m.\u001b[39mnow(KST)\n\u001b[0;32m      3\u001b[0m date \u001b[38;5;241m=\u001b[39m date\u001b[38;5;241m.\u001b[39mstrftime(\u001b[38;5;124m'\u001b[39m\u001b[38;5;124m%\u001b[39m\u001b[38;5;124mY-\u001b[39m\u001b[38;5;124m%\u001b[39m\u001b[38;5;124mm-\u001b[39m\u001b[38;5;132;01m%d\u001b[39;00m\u001b[38;5;124m \u001b[39m\u001b[38;5;124m%\u001b[39m\u001b[38;5;124mH:\u001b[39m\u001b[38;5;124m%\u001b[39m\u001b[38;5;124mM:\u001b[39m\u001b[38;5;124m%\u001b[39m\u001b[38;5;124mS\u001b[39m\u001b[38;5;124m'\u001b[39m)\n",
      "\u001b[1;31mNameError\u001b[0m: name 'pytz' is not defined"
     ]
    }
   ],
   "source": [
    "KST = pytz.timezone('Asia/Seoul')\n",
    "date = datetime.now(KST)\n",
    "date = date.strftime('%Y-%m-%d %H:%M:%S')\n",
    "# type(date)\n",
    "print(date)"
   ]
  },
  {
   "cell_type": "code",
   "execution_count": null,
   "metadata": {},
   "outputs": [],
   "source": [
    "UTC = pytz.timezone('utc')\n",
    "date = datetime.now(UTC)\n",
    "date_ = date.strftime('%Y-%m-%d %H:%M:%S')\n",
    "type(date)\n",
    "# print(date)"
   ]
  },
  {
   "cell_type": "code",
   "execution_count": null,
   "metadata": {},
   "outputs": [],
   "source": [
    "import myutil as util\n",
    "import pandas as pd\n",
    "import yaml\n",
    "\n",
    "ticker = 'KRW-BNC'\n",
    "interval = 'day'\n",
    "\n",
    "with open('config.yml', 'r') as f:\n",
    "    config = yaml.safe_load(f)\n",
    "\n",
    "file_path = f'data/ohlcv/{ticker}_{interval}.pickle'\n",
    "new_file_path = f'data/index/{ticker}_{interval}.pickle'\n",
    "\n",
    "file_path = config['path']['ohlcv']\n",
    "new_file_path = config['path']['index']\n",
    "\n",
    "file_path"
   ]
  },
  {
   "cell_type": "code",
   "execution_count": null,
   "metadata": {},
   "outputs": [],
   "source": [
    "import yaml\n",
    "\n",
    "with open('config.yml') as f:\n",
    "    config = yaml.safe_load(f)\n",
    "\n",
    "print(config['file_path'])"
   ]
  },
  {
   "cell_type": "code",
   "execution_count": null,
   "metadata": {},
   "outputs": [],
   "source": [
    "with open('config.yml', 'r') as f:\n",
    "    config = yaml.safe_load(f)\n",
    "\n",
    "    # file_path = f'data/ohlcv/{ticker}_{interval}.pickle'\n",
    "file_path = config['path']['ohlcv']\n",
    "new_file_path = config['path']['index']\n",
    "\n",
    "file_path"
   ]
  },
  {
   "cell_type": "code",
   "execution_count": null,
   "metadata": {},
   "outputs": [
    {
     "data": {
      "text/plain": [
       "[{'currency': 'KRW',\n",
       "  'balance': '5209.8792455',\n",
       "  'locked': '0',\n",
       "  'avg_buy_price': '0',\n",
       "  'avg_buy_price_modified': True,\n",
       "  'unit_currency': 'KRW'},\n",
       " {'currency': 'ASTR',\n",
       "  'balance': '0',\n",
       "  'locked': '41.82194616',\n",
       "  'avg_buy_price': '241.5',\n",
       "  'avg_buy_price_modified': False,\n",
       "  'unit_currency': 'KRW'}]"
      ]
     },
     "execution_count": 3,
     "metadata": {},
     "output_type": "execute_result"
    }
   ],
   "source": []
  },
  {
   "cell_type": "code",
   "execution_count": 40,
   "metadata": {},
   "outputs": [],
   "source": [
    "class NoOrderException(Exception):\n",
    "    pass\n",
    "\n",
    "class NotEnoughBalanceException(Exception):\n",
    "    pass\n",
    "\n",
    "class Order:\n",
    "    uuid:str\n",
    "    volume:float\n",
    "    price:float\n",
    "\n",
    "    def __init__(self, ord):\n",
    "        self.uuid = ord['uuid']\n",
    "        self.volume = float(ord['volume'])\n",
    "        self.price = float(ord['price'])\n",
    "\n",
    "    def sell_price(self):\n",
    "        return self.price * (1+0.02)\n",
    "    \n",
    "    def next_buy_price(self):\n",
    "        return self.price * (1-0.05)\n",
    "\n",
    "class Balance:\n",
    "    currency: str\n",
    "    balance: float\n",
    "    locked: float\n",
    "    avg_buy_price: float\n",
    "    unit_currency: str\n",
    "    coins: list[Order]\n",
    "    reserve: list[Order]\n",
    "\n",
    "    def __init__(self, bal):\n",
    "        self.currency = bal['currency']\n",
    "        self.balance = float(bal['balance'])\n",
    "        self.locked = float(bal['locked'])\n",
    "        self.avg_buy_price = float(bal['avg_buy_price'])\n",
    "        self.unit_currency = bal['unit_currency']\n",
    "        self.coins = []\n",
    "        self.reserve = []\n",
    "\n",
    "    def get_ticker(self):\n",
    "        return f\"{self.currency}-{self.unit_currency}\"\n",
    "    \n",
    "    def add_order(self, order):\n",
    "        self.orders.append(Order(order))\n",
    "\n",
    "    def viable_transaction(self, amount):\n",
    "        if self.balance > amount:\n",
    "            return True\n",
    "        else:\n",
    "            raise NotEnoughBalanceException(\n",
    "                f\"Not enough balance for {self.get_ticker()}.\\nRemaining balance is {self.balance}\"\n",
    "            )\n",
    "        \n",
    "    def show_orders(self):\n",
    "        if len(self.orders):\n",
    "            return self.orders\n",
    "        else:\n",
    "            raise NoOrderException(\n",
    "                f\"No orders for {self.get_ticker()}\"\n",
    "            )\n",
    "    def sell_orders(self, amount):\n",
    "        try:\n",
    "            self.viable_transaction(amount) # 만약 이 테스트를 통과하지 못하면 에러나서 except 로 같다.\n",
    "            self.balance -= amount\n",
    "            print(f\"Selling {amount} {self.get_ticker()}.\\n Remaining balance: {self.balance}\")\n",
    "            \n",
    "        except NotEnoughBalanceException as e:\n",
    "            print(f'Sell order failed.', e)\n",
    "\n",
    "class CoinBalance(Balance):\n",
    "    def __init__(self, uuid):\n",
    "        super().__init__(currency, balance, locked, reserve)\n",
    "        buy_count : int = 0\n",
    "\n",
    "\n",
    "\n",
    "\n"
   ]
  },
  {
   "cell_type": "code",
   "execution_count": 41,
   "metadata": {},
   "outputs": [
    {
     "name": "stdout",
     "output_type": "stream",
     "text": [
      "Sell order failed. Not enough balance for ASTR-KRW.\n",
      "Remaining balance is 0.0\n"
     ]
    }
   ],
   "source": [
    "data = [{'currency': 'KRW',\n",
    "        'balance': '5209.8792455',\n",
    "        'locked': '0',\n",
    "        'avg_buy_price': '0',\n",
    "        'avg_buy_price_modified': True,\n",
    "        'unit_currency': 'KRW'},\n",
    "        {'currency': 'ASTR',\n",
    "        'balance': '0',\n",
    "        'locked': '41.82194616',\n",
    "        'avg_buy_price': '241.5',\n",
    "        'avg_buy_price_modified': False,\n",
    "        'unit_currency': 'KRW'}]\n",
    "\n",
    "order = {'uuid': '56df7f43-fedb-4b0e-84c2-9ce211a18bc7',\n",
    "  'side': 'ask',\n",
    "  'ord_type': 'limit',\n",
    "  'price': '245',\n",
    "  'state': 'wait',\n",
    "  'market': 'KRW-ASTR',\n",
    "  'created_at': '2024-03-15T09:13:28+09:00',\n",
    "  'volume': '41.82194616',\n",
    "  'remaining_volume': '41.82194616',\n",
    "  'reserved_fee': '0',\n",
    "  'remaining_fee': '0',\n",
    "  'paid_fee': '0',\n",
    "  'locked': '41.82194616',\n",
    "  'executed_volume': '0',\n",
    "  'trades_count': 0}\n",
    "\n",
    "krw = Balance(data[0])\n",
    "astr = Balance(data[1])\n",
    "krw.get_ticker()\n",
    "astr.add_order(order)\n",
    "astr.show_orders()[0].uuid\n",
    "astr.sell_orders(41)"
   ]
  },
  {
   "cell_type": "code",
   "execution_count": 23,
   "metadata": {},
   "outputs": [
    {
     "data": {
      "text/plain": [
       "'56df7f43-fedb-4b0e-84c2-9ce211a18bc7'"
      ]
     },
     "execution_count": 23,
     "metadata": {},
     "output_type": "execute_result"
    }
   ],
   "source": [
    "orders_ast = astr.show_orders()[0]\n",
    "orders_ast.uuid"
   ]
  },
  {
   "cell_type": "code",
   "execution_count": 2,
   "metadata": {},
   "outputs": [
    {
     "data": {
      "text/plain": [
       "'KRW-KRW'"
      ]
     },
     "execution_count": 2,
     "metadata": {},
     "output_type": "execute_result"
    }
   ],
   "source": []
  }
 ],
 "metadata": {
  "kernelspec": {
   "display_name": "env_poetry",
   "language": "python",
   "name": "python3"
  },
  "language_info": {
   "codemirror_mode": {
    "name": "ipython",
    "version": 3
   },
   "file_extension": ".py",
   "mimetype": "text/x-python",
   "name": "python",
   "nbconvert_exporter": "python",
   "pygments_lexer": "ipython3",
   "version": "3.10.13"
  }
 },
 "nbformat": 4,
 "nbformat_minor": 2
}
