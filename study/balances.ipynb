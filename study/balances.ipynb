{
 "cells": [
  {
   "cell_type": "code",
   "execution_count": 14,
   "metadata": {},
   "outputs": [],
   "source": [
    "import os\n",
    "import myhelper\n",
    "from dotenv import load_dotenv\n",
    "import pyupbit\n",
    "from datetime import datetime as dt\n",
    "from datetime import timedelta\n",
    "import myutil as util\n",
    "from dataclasses import dataclass\n",
    "import yaml\n",
    "\n",
    "load_dotenv()\n",
    "\n",
    "access_key = os.getenv(\"UPBIT_OPEN_API_ACCESS_KEY\")\n",
    "secret_key = os.getenv(\"UPBIT_OPEN_API_SECRET_KEY\")\n",
    "upbit = pyupbit.Upbit(access_key, secret_key)\n",
    "my_balance = upbit.get_balances()\n"
   ]
  },
  {
   "cell_type": "code",
   "execution_count": 12,
   "metadata": {},
   "outputs": [
    {
     "data": {
      "text/plain": [
       "1"
      ]
     },
     "execution_count": 12,
     "metadata": {},
     "output_type": "execute_result"
    }
   ],
   "source": [
    "# my_balance\n",
    "\n",
    "order_history = [{'uuid': '11697def7-5ada-405f-b0f3-053801d5b190',\n",
    "  'side': 'ask',\n",
    "  'ord_type': 'market',\n",
    "  'price': None,\n",
    "  'state': 'done',\n",
    "  'market': 'KRW-LTC',\n",
    "  'created_at': '2021-03-21T14:43:40+09:00',\n",
    "  'volume': '0.07336815',\n",
    "  'remaining_volume': '0.0',\n",
    "  'reserved_fee': '0.0',\n",
    "  'remaining_fee': '0.0',\n",
    "  'paid_fee': '8.39331636',\n",
    "  'locked': '0.0',\n",
    "  'executed_volume': '0.07336815',\n",
    "  'trades_count': 1}]\n",
    "\n",
    "len(order_history)"
   ]
  },
  {
   "cell_type": "code",
   "execution_count": 13,
   "metadata": {},
   "outputs": [
    {
     "name": "stdout",
     "output_type": "stream",
     "text": [
      "저장한다.\n"
     ]
    },
    {
     "data": {
      "text/plain": [
       "{'11697def7-5ada-405f-b0f3-053801d5b190': 'bid'}"
      ]
     },
     "execution_count": 13,
     "metadata": {},
     "output_type": "execute_result"
    }
   ],
   "source": [
    "buy('KRW-GLM', 10000)"
   ]
  },
  {
   "cell_type": "code",
   "execution_count": 28,
   "metadata": {},
   "outputs": [],
   "source": [
    "def convert_to_ticker(coin):\n",
    "    return f\"KRW-{coin}\"\n",
    "\n",
    "def get_my_coins(balances:bool = False):\n",
    "    '''\n",
    "    - get_my_coins() : 보유중인 코인만을 'KRW-aaa'의 형태로 돌려준다.(list)\n",
    "    - get_my_coins(True) : 보유중인 코인과 그 소유량을 돌려준다.(locked 제외, dict)\n",
    "    '''\n",
    "    my_balance = upbit.get_balances()\n",
    "\n",
    "    if balances:\n",
    "        bals = {}\n",
    "        tickers = get_my_coins()\n",
    "        for ticker in tickers:\n",
    "            balance = upbit.get_balance(ticker)\n",
    "            bals[ticker] = balance\n",
    "        return bals\n",
    "    else:\n",
    "        return [f\"KRW-{x['currency']}\" for x in my_balance]\n",
    "\n",
    "def sell(arg):\n",
    "    '''\n",
    "    - sell(ticker) : 해당 코인 전량을 매도한다. \n",
    "    - sell(uuid) : 해당 UUID분량만 매도한다. \n",
    "    '''\n",
    "    if len(arg) > 15:\n",
    "        ticker = arg\n",
    "        volume = upbit.get_balance(arg)\n",
    "        ask = upbit.sell_market_order(ticker, volume)\n",
    "    else:\n",
    "        order = upbit.get_order(arg)\n",
    "        volume = order['volume']\n",
    "        ticker = order['market']\n",
    "        ask = upbit.sell_market_order(ticker, volume)\n",
    "        res = {}\n",
    "        res[arg] = ask[0]['price']\n",
    "        util.save_yml('data/order_history.yml', **res)\n",
    "\n",
    "    return ask['uuid']\n",
    "\n",
    "def limit_sell(arg, price):\n",
    "    '''\n",
    "    - limit_sell(ticker) : 해당 코인 전량을 매도한다. \n",
    "    - limit_sell(uuid) : 해당 UUID분량만 매도한다. \n",
    "    '''   \n",
    "    if len(arg) > 15:\n",
    "        ticker = arg\n",
    "        volume = upbit.get_balance(arg)\n",
    "    else:\n",
    "        order = upbit.get_order(arg)\n",
    "        volume = order['volume']\n",
    "        ticker = order['market']\n",
    "\n",
    "    ask_price = pyupbit.get_tick_size(price)\n",
    "    ask = upbit.sell_limit_order(ticker, ask_price, volume)\n",
    "\n",
    "    res = {}\n",
    "    res[arg] = ask[0]['price']\n",
    "    util.save_yml('data/order_history.yml', **res)\n",
    "\n",
    "    return ask['uuid']\n",
    "\n",
    "def buy(ticker, money:float):\n",
    "    volume = money/pyupbit.get_current_price(ticker)\n",
    "    bid = upbit.buy_market_order(ticker, volume)\n",
    "\n",
    "    res = {}\n",
    "    res[bid[0]['uuid']] = bid[0]['price']\n",
    "    util.save_yml('data/order_history.yml', **res)\n",
    "    \n",
    "    return bid['uuid']\n",
    "\n",
    "def limit_buy(ticker, target_price:float):\n",
    "    money = 5100\n",
    "    volume = money/target_price\n",
    "    bid_price = pyupbit.get_tick_size(target_price)\n",
    "    bid = upbit.buy_limit_order(ticker, bid_price, volume)\n",
    "    \n",
    "    res = {}    \n",
    "    res[bid[0]['uuid']] = bid[0]['price']\n",
    "    util.save_yml('data/order_history.yml', **res)   \n",
    "    \n",
    "    return bid['uuid']\n",
    "    \n",
    "def cancel_order(uuid:str):\n",
    "    return upbit.cancel_order(uuid)\n",
    "\n",
    "def get_history(info=False):\n",
    "    '''\n",
    "    현재 소유중인 코인에 기초하여, \n",
    "    '남아 있는' 모든 예약주문을 돌려준다.\n",
    "    (가지고 있지 않은 코인은 판매할 수 없으므로. 구매예약은 고려하지 않음.)\n",
    "\n",
    "    - info=False : uuid만 반환한다.(list)\n",
    "    - info=True : 모든 정보를 반환한다.(dict)\n",
    "    '''\n",
    "    ods = {}\n",
    "    _, *tickers = get_my_coins()\n",
    "\n",
    "    for ticker in tickers:\n",
    "        ods[ticker] = upbit.get_order(ticker)\n",
    "\n",
    "    if info:\n",
    "        return ods\n",
    "    else:\n",
    "        return [v[0]['uuid'] for k,v in ods.items()]\n",
    "    \n"
   ]
  },
  {
   "cell_type": "code",
   "execution_count": 23,
   "metadata": {},
   "outputs": [
    {
     "data": {
      "text/plain": [
       "[{'currency': 'KRW',\n",
       "  'balance': '5209.8792455',\n",
       "  'locked': '0',\n",
       "  'avg_buy_price': '0',\n",
       "  'avg_buy_price_modified': True,\n",
       "  'unit_currency': 'KRW'},\n",
       " {'currency': 'ASTR',\n",
       "  'balance': '0',\n",
       "  'locked': '41.82194616',\n",
       "  'avg_buy_price': '241.5',\n",
       "  'avg_buy_price_modified': False,\n",
       "  'unit_currency': 'KRW'}]"
      ]
     },
     "execution_count": 23,
     "metadata": {},
     "output_type": "execute_result"
    }
   ],
   "source": [
    "upbit.get_balances()"
   ]
  },
  {
   "cell_type": "code",
   "execution_count": 26,
   "metadata": {},
   "outputs": [
    {
     "name": "stdout",
     "output_type": "stream",
     "text": [
      "{'currency': 'ASTR', 'balance': '0', 'locked': '41.82194616', 'avg_buy_price': '241.5', 'avg_buy_price_modified': False, 'unit_currency': 'KRW'}\n"
     ]
    }
   ],
   "source": [
    "def main():\n",
    "    with open('data/order_history.yml', 'r') as f:\n",
    "        order_history = yaml.safe_load(f)\n",
    "\n",
    "    for order in order_history:\n",
    "        order\n",
    "\n",
    "main()"
   ]
  },
  {
   "cell_type": "code",
   "execution_count": null,
   "metadata": {},
   "outputs": [],
   "source": [
    "class Order:\n",
    "    "
   ]
  },
  {
   "cell_type": "code",
   "execution_count": 21,
   "metadata": {},
   "outputs": [
    {
     "data": {
      "text/plain": [
       "dict_keys(['uuid', 'side', 'ord_type', 'price', 'state', 'market', 'created_at', 'volume', 'remaining_volume', 'reserved_fee', 'remaining_fee', 'paid_fee', 'locked', 'executed_volume', 'trades_count'])"
      ]
     },
     "execution_count": 21,
     "metadata": {},
     "output_type": "execute_result"
    }
   ],
   "source": [
    "{'uuid': '22ca2984-5e02-4d53-8d56-1420fe1fad7f',\n",
    " 'side': 'ask',\n",
    " 'ord_type': 'limit',\n",
    " 'price': '243',\n",
    " 'state': 'done',\n",
    " 'market': 'KRW-ASTR',\n",
    " 'created_at': '2024-03-15T09:05:03+09:00',\n",
    " 'volume': '62.28348341',\n",
    " 'remaining_volume': '0',\n",
    " 'reserved_fee': '0',\n",
    " 'remaining_fee': '0',\n",
    " 'paid_fee': '7.6141558468725',\n",
    " 'locked': '0',\n",
    " 'executed_volume': '62.28348341',\n",
    " 'trades_count': 1,\n",
    "}.keys()"
   ]
  },
  {
   "cell_type": "code",
   "execution_count": 5,
   "metadata": {},
   "outputs": [
    {
     "ename": "ModuleNotFoundError",
     "evalue": "No module named 'myorders'",
     "output_type": "error",
     "traceback": [
      "\u001b[1;31m---------------------------------------------------------------------------\u001b[0m",
      "\u001b[1;31mModuleNotFoundError\u001b[0m                       Traceback (most recent call last)",
      "Cell \u001b[1;32mIn[5], line 1\u001b[0m\n\u001b[1;32m----> 1\u001b[0m \u001b[38;5;28;01mimport\u001b[39;00m \u001b[38;5;21;01mmyorders\u001b[39;00m \u001b[38;5;28;01mas\u001b[39;00m \u001b[38;5;21;01morders\u001b[39;00m\n\u001b[0;32m      4\u001b[0m \u001b[38;5;28;01mdef\u001b[39;00m \u001b[38;5;21msell\u001b[39m(upbit, my_balance) \u001b[38;5;241m-\u001b[39m\u001b[38;5;241m>\u001b[39m \u001b[38;5;28mlist\u001b[39m:\n\u001b[0;32m      5\u001b[0m     my_coin:\u001b[38;5;28mlist\u001b[39m \u001b[38;5;241m=\u001b[39m []\n",
      "\u001b[1;31mModuleNotFoundError\u001b[0m: No module named 'myorders'"
     ]
    }
   ],
   "source": [
    "\n",
    "\n",
    "def sell(upbit, my_balance) -> list:\n",
    "    my_coin:list = []\n",
    "\n",
    "    try:\n",
    "        # 보유코인 관리\n",
    "        for i in range(len(my_balance)):\n",
    "            ticker = f\"KRW-{my_balance[i]['currency']}\"\n",
    "            avg_buy_price = float(my_balance[i]['avg_buy_price'])\n",
    "            balance = float(my_balance[i]['balance'])\n",
    "            cut_line = avg_buy_price* (1.0 - 0.015)\n",
    "            earn_line = avg_buy_price* (1.0 + 0.025)    \n",
    "\n",
    "            # 구매가가 있다면 ( == 현금잔고가 아님 )\n",
    "            if avg_buy_price:\n",
    "                current_price = pyupbit.get_current_price(ticker)\n",
    "                if current_price < cut_line or current_price > earn_line:\n",
    "                    # \n",
    "                    rate = myutil.moving_rate(avg_buy_price,current_price)\n",
    "                    print(f'{ticker} 매각. 수익률 : {rate:,.2f}')\n",
    "                else:\n",
    "                    my_coin.append(ticker)\n",
    "            else:\n",
    "                cash = balance\n",
    "                locked = float(my_balance[i]['locked'])\n",
    "                print(f'보유현금 : {cash:,.2f}, 예약중 : {locked:,.2f}')\n",
    "\n",
    "    except Exception as e:\n",
    "        print('Exception cut_loss():', e)\n",
    "\n",
    "    return my_coin\n",
    "\n",
    "# sell(upbit, my_balance)\n",
    "\n",
    "# cash = my_balance[0]['balance']\n"
   ]
  },
  {
   "cell_type": "code",
   "execution_count": null,
   "metadata": {},
   "outputs": [],
   "source": [
    "@dataclass\n",
    "class Coin:\n",
    "    currency: str\n",
    "    balance: float\n",
    "    locked: float\n",
    "    avg_buy_price: float\n",
    "    avg_buy_price_modified: bool\n",
    "    unit_currency: str\n",
    "\n",
    "    def ticker(self):\n",
    "        ticker = \"-\",join(self.unit_currency,self.currency)\n"
   ]
  },
  {
   "cell_type": "code",
   "execution_count": 44,
   "metadata": {},
   "outputs": [
    {
     "ename": "ValueError",
     "evalue": "If using all scalar values, you must pass an index",
     "output_type": "error",
     "traceback": [
      "\u001b[1;31m---------------------------------------------------------------------------\u001b[0m",
      "\u001b[1;31mValueError\u001b[0m                                Traceback (most recent call last)",
      "Cell \u001b[1;32mIn[44], line 40\u001b[0m\n\u001b[0;32m     38\u001b[0m df\u001b[38;5;241m.\u001b[39mset_index \u001b[38;5;241m=\u001b[39m \u001b[38;5;124m'\u001b[39m\u001b[38;5;124muuid\u001b[39m\u001b[38;5;124m'\u001b[39m\n\u001b[0;32m     39\u001b[0m df\n\u001b[1;32m---> 40\u001b[0m \u001b[43mupdate_df\u001b[49m\u001b[43m(\u001b[49m\u001b[43m{\u001b[49m\u001b[38;5;124;43m'\u001b[39;49m\u001b[38;5;124;43m11111\u001b[39;49m\u001b[38;5;124;43m'\u001b[39;49m\u001b[43m:\u001b[49m\u001b[38;5;124;43m'\u001b[39;49m\u001b[38;5;124;43masdf\u001b[39;49m\u001b[38;5;124;43m'\u001b[39;49m\u001b[43m}\u001b[49m\u001b[43m,\u001b[49m\u001b[43m \u001b[49m\u001b[38;5;124;43m'\u001b[39;49m\u001b[38;5;124;43msample.csv\u001b[39;49m\u001b[38;5;124;43m'\u001b[39;49m\u001b[43m)\u001b[49m\n",
      "Cell \u001b[1;32mIn[44], line 5\u001b[0m, in \u001b[0;36mupdate_df\u001b[1;34m(data, file_path)\u001b[0m\n\u001b[0;32m      3\u001b[0m \u001b[38;5;28;01mdef\u001b[39;00m \u001b[38;5;21mupdate_df\u001b[39m(data, file_path\u001b[38;5;241m=\u001b[39m\u001b[38;5;28;01mNone\u001b[39;00m):\n\u001b[1;32m----> 5\u001b[0m     df \u001b[38;5;241m=\u001b[39m \u001b[43mpd\u001b[49m\u001b[38;5;241;43m.\u001b[39;49m\u001b[43mDataFrame\u001b[49m\u001b[43m(\u001b[49m\u001b[43mdata\u001b[49m\u001b[43m)\u001b[49m\n\u001b[0;32m      7\u001b[0m     \u001b[38;5;28;01mif\u001b[39;00m \u001b[38;5;129;01mnot\u001b[39;00m file_path:\n\u001b[0;32m      8\u001b[0m         file_path \u001b[38;5;241m=\u001b[39m \u001b[38;5;124m'\u001b[39m\u001b[38;5;124msample_order.csv\u001b[39m\u001b[38;5;124m'\u001b[39m\n",
      "File \u001b[1;32mc:\\Users\\Genie240223\\.conda\\envs\\env_310\\lib\\site-packages\\pandas\\core\\frame.py:767\u001b[0m, in \u001b[0;36mDataFrame.__init__\u001b[1;34m(self, data, index, columns, dtype, copy)\u001b[0m\n\u001b[0;32m    761\u001b[0m     mgr \u001b[38;5;241m=\u001b[39m \u001b[38;5;28mself\u001b[39m\u001b[38;5;241m.\u001b[39m_init_mgr(\n\u001b[0;32m    762\u001b[0m         data, axes\u001b[38;5;241m=\u001b[39m{\u001b[38;5;124m\"\u001b[39m\u001b[38;5;124mindex\u001b[39m\u001b[38;5;124m\"\u001b[39m: index, \u001b[38;5;124m\"\u001b[39m\u001b[38;5;124mcolumns\u001b[39m\u001b[38;5;124m\"\u001b[39m: columns}, dtype\u001b[38;5;241m=\u001b[39mdtype, copy\u001b[38;5;241m=\u001b[39mcopy\n\u001b[0;32m    763\u001b[0m     )\n\u001b[0;32m    765\u001b[0m \u001b[38;5;28;01melif\u001b[39;00m \u001b[38;5;28misinstance\u001b[39m(data, \u001b[38;5;28mdict\u001b[39m):\n\u001b[0;32m    766\u001b[0m     \u001b[38;5;66;03m# GH#38939 de facto copy defaults to False only in non-dict cases\u001b[39;00m\n\u001b[1;32m--> 767\u001b[0m     mgr \u001b[38;5;241m=\u001b[39m \u001b[43mdict_to_mgr\u001b[49m\u001b[43m(\u001b[49m\u001b[43mdata\u001b[49m\u001b[43m,\u001b[49m\u001b[43m \u001b[49m\u001b[43mindex\u001b[49m\u001b[43m,\u001b[49m\u001b[43m \u001b[49m\u001b[43mcolumns\u001b[49m\u001b[43m,\u001b[49m\u001b[43m \u001b[49m\u001b[43mdtype\u001b[49m\u001b[38;5;241;43m=\u001b[39;49m\u001b[43mdtype\u001b[49m\u001b[43m,\u001b[49m\u001b[43m \u001b[49m\u001b[43mcopy\u001b[49m\u001b[38;5;241;43m=\u001b[39;49m\u001b[43mcopy\u001b[49m\u001b[43m,\u001b[49m\u001b[43m \u001b[49m\u001b[43mtyp\u001b[49m\u001b[38;5;241;43m=\u001b[39;49m\u001b[43mmanager\u001b[49m\u001b[43m)\u001b[49m\n\u001b[0;32m    768\u001b[0m \u001b[38;5;28;01melif\u001b[39;00m \u001b[38;5;28misinstance\u001b[39m(data, ma\u001b[38;5;241m.\u001b[39mMaskedArray):\n\u001b[0;32m    769\u001b[0m     \u001b[38;5;28;01mfrom\u001b[39;00m \u001b[38;5;21;01mnumpy\u001b[39;00m\u001b[38;5;21;01m.\u001b[39;00m\u001b[38;5;21;01mma\u001b[39;00m \u001b[38;5;28;01mimport\u001b[39;00m mrecords\n",
      "File \u001b[1;32mc:\\Users\\Genie240223\\.conda\\envs\\env_310\\lib\\site-packages\\pandas\\core\\internals\\construction.py:503\u001b[0m, in \u001b[0;36mdict_to_mgr\u001b[1;34m(data, index, columns, dtype, typ, copy)\u001b[0m\n\u001b[0;32m    499\u001b[0m     \u001b[38;5;28;01melse\u001b[39;00m:\n\u001b[0;32m    500\u001b[0m         \u001b[38;5;66;03m# dtype check to exclude e.g. range objects, scalars\u001b[39;00m\n\u001b[0;32m    501\u001b[0m         arrays \u001b[38;5;241m=\u001b[39m [x\u001b[38;5;241m.\u001b[39mcopy() \u001b[38;5;28;01mif\u001b[39;00m \u001b[38;5;28mhasattr\u001b[39m(x, \u001b[38;5;124m\"\u001b[39m\u001b[38;5;124mdtype\u001b[39m\u001b[38;5;124m\"\u001b[39m) \u001b[38;5;28;01melse\u001b[39;00m x \u001b[38;5;28;01mfor\u001b[39;00m x \u001b[38;5;129;01min\u001b[39;00m arrays]\n\u001b[1;32m--> 503\u001b[0m \u001b[38;5;28;01mreturn\u001b[39;00m \u001b[43marrays_to_mgr\u001b[49m\u001b[43m(\u001b[49m\u001b[43marrays\u001b[49m\u001b[43m,\u001b[49m\u001b[43m \u001b[49m\u001b[43mcolumns\u001b[49m\u001b[43m,\u001b[49m\u001b[43m \u001b[49m\u001b[43mindex\u001b[49m\u001b[43m,\u001b[49m\u001b[43m \u001b[49m\u001b[43mdtype\u001b[49m\u001b[38;5;241;43m=\u001b[39;49m\u001b[43mdtype\u001b[49m\u001b[43m,\u001b[49m\u001b[43m \u001b[49m\u001b[43mtyp\u001b[49m\u001b[38;5;241;43m=\u001b[39;49m\u001b[43mtyp\u001b[49m\u001b[43m,\u001b[49m\u001b[43m \u001b[49m\u001b[43mconsolidate\u001b[49m\u001b[38;5;241;43m=\u001b[39;49m\u001b[43mcopy\u001b[49m\u001b[43m)\u001b[49m\n",
      "File \u001b[1;32mc:\\Users\\Genie240223\\.conda\\envs\\env_310\\lib\\site-packages\\pandas\\core\\internals\\construction.py:114\u001b[0m, in \u001b[0;36marrays_to_mgr\u001b[1;34m(arrays, columns, index, dtype, verify_integrity, typ, consolidate)\u001b[0m\n\u001b[0;32m    111\u001b[0m \u001b[38;5;28;01mif\u001b[39;00m verify_integrity:\n\u001b[0;32m    112\u001b[0m     \u001b[38;5;66;03m# figure out the index, if necessary\u001b[39;00m\n\u001b[0;32m    113\u001b[0m     \u001b[38;5;28;01mif\u001b[39;00m index \u001b[38;5;129;01mis\u001b[39;00m \u001b[38;5;28;01mNone\u001b[39;00m:\n\u001b[1;32m--> 114\u001b[0m         index \u001b[38;5;241m=\u001b[39m \u001b[43m_extract_index\u001b[49m\u001b[43m(\u001b[49m\u001b[43marrays\u001b[49m\u001b[43m)\u001b[49m\n\u001b[0;32m    115\u001b[0m     \u001b[38;5;28;01melse\u001b[39;00m:\n\u001b[0;32m    116\u001b[0m         index \u001b[38;5;241m=\u001b[39m ensure_index(index)\n",
      "File \u001b[1;32mc:\\Users\\Genie240223\\.conda\\envs\\env_310\\lib\\site-packages\\pandas\\core\\internals\\construction.py:667\u001b[0m, in \u001b[0;36m_extract_index\u001b[1;34m(data)\u001b[0m\n\u001b[0;32m    664\u001b[0m         \u001b[38;5;28;01mraise\u001b[39;00m \u001b[38;5;167;01mValueError\u001b[39;00m(\u001b[38;5;124m\"\u001b[39m\u001b[38;5;124mPer-column arrays must each be 1-dimensional\u001b[39m\u001b[38;5;124m\"\u001b[39m)\n\u001b[0;32m    666\u001b[0m \u001b[38;5;28;01mif\u001b[39;00m \u001b[38;5;129;01mnot\u001b[39;00m indexes \u001b[38;5;129;01mand\u001b[39;00m \u001b[38;5;129;01mnot\u001b[39;00m raw_lengths:\n\u001b[1;32m--> 667\u001b[0m     \u001b[38;5;28;01mraise\u001b[39;00m \u001b[38;5;167;01mValueError\u001b[39;00m(\u001b[38;5;124m\"\u001b[39m\u001b[38;5;124mIf using all scalar values, you must pass an index\u001b[39m\u001b[38;5;124m\"\u001b[39m)\n\u001b[0;32m    669\u001b[0m \u001b[38;5;28;01mif\u001b[39;00m have_series:\n\u001b[0;32m    670\u001b[0m     index \u001b[38;5;241m=\u001b[39m union_indexes(indexes)\n",
      "\u001b[1;31mValueError\u001b[0m: If using all scalar values, you must pass an index"
     ]
    }
   ],
   "source": [
    "import pandas as pd\n",
    "csv_file = 'sample_order.csv'\n",
    "def update_df(data, file_path=None):\n",
    "    \n",
    "    df = pd.DataFrame(data)\n",
    "\n",
    "    if not file_path:\n",
    "        file_path = 'sample_order.csv'\n",
    "    else:\n",
    "        file_path = file_path\n",
    "\n",
    "    if os.path.exists(file_path):\n",
    "        _df = pd.read_csv(file_path)\n",
    "        df = pd.concat([df, _df], axis=0).drop_duplicates()\n",
    "    \n",
    "    df.to_csv(file_path, index=False, encoding='utf-8')\n",
    "\n",
    "data = [{'uuid': '999999999-9b4f-4bb0-9c03-30318e3ff10a',\n",
    "  'side': 'ask',\n",
    "  'ord_type': 'limit',\n",
    "  'price': '250000.0',\n",
    "  'state': 'wait',\n",
    "  'market': 'KRW-LTC',\n",
    "  'created_at': '2021-03-25T14:10:53+09:00',\n",
    "  'volume': '1.0',\n",
    "  'remaining_volume': '1.0',\n",
    "  'reserved_fee': '0.0',\n",
    "  'remaining_fee': '0.0',\n",
    "  'paid_fee': '0.0',\n",
    "  'locked': '1.0',\n",
    "  'executed_volume': '0.0',\n",
    "  'trades_count': 0}]\n",
    "\n",
    "update_df(data)\n",
    "df = pd.read_csv('sample_order.csv')\n",
    "df.drop(index=1)\n",
    "df.index.names = ['Genie']\n",
    "df.set_index = 'uuid'"
   ]
  }
 ],
 "metadata": {
  "kernelspec": {
   "display_name": "env_310",
   "language": "python",
   "name": "python3"
  },
  "language_info": {
   "codemirror_mode": {
    "name": "ipython",
    "version": 3
   },
   "file_extension": ".py",
   "mimetype": "text/x-python",
   "name": "python",
   "nbconvert_exporter": "python",
   "pygments_lexer": "ipython3",
   "version": "3.10.13"
  }
 },
 "nbformat": 4,
 "nbformat_minor": 2
}
