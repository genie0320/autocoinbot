{
 "cells": [
  {
   "cell_type": "code",
   "execution_count": 1,
   "metadata": {},
   "outputs": [],
   "source": [
    "import jwt\n",
    "import hashlib\n",
    "import os\n",
    "import requests\n",
    "import uuid\n",
    "from urllib.parse import urlencode, unquote\n",
    "\n",
    "from dotenv import load_dotenv\n",
    "\n",
    "load_dotenv()\n",
    "\n",
    "access_key = os.getenv(\"UPBIT_OPEN_API_ACCESS_KEY\")\n",
    "secret_key = os.getenv(\"UPBIT_OPEN_API_SECRET_KEY\")\n",
    "server_url = 'https://api.upbit.com'"
   ]
  },
  {
   "cell_type": "code",
   "execution_count": 26,
   "metadata": {},
   "outputs": [],
   "source": [
    "# params = {\n",
    "#   'market': 'KRW-BTC'\n",
    "#   'side': 'bid'\n",
    "#   'ord_type': 'limit'\n",
    "#   'price': '100.0'\n",
    "#   'volume': '0.01'\n",
    "# }\n",
    "# params = {\n",
    "#     'states[]': ['wait']\n",
    "# }\n",
    "params = {\n",
    "  'uuid': '756ec180-0c31-421b-99f0-d8482989107e'\n",
    "}\n",
    "\n",
    "_url = '/v1/order'\n",
    "query_string = unquote(urlencode(params, doseq=True)).encode(\"utf-8\")"
   ]
  },
  {
   "cell_type": "code",
   "execution_count": 27,
   "metadata": {},
   "outputs": [
    {
     "data": {
      "text/plain": [
       "{'uuid': '756ec180-0c31-421b-99f0-d8482989107e',\n",
       " 'side': 'bid',\n",
       " 'ord_type': 'limit',\n",
       " 'price': '8000000',\n",
       " 'state': 'wait',\n",
       " 'market': 'KRW-BTC',\n",
       " 'created_at': '2024-03-17T15:22:33+09:00',\n",
       " 'volume': '0.00065079',\n",
       " 'remaining_volume': '0.00065079',\n",
       " 'reserved_fee': '2.60316',\n",
       " 'remaining_fee': '2.60316',\n",
       " 'paid_fee': '0',\n",
       " 'locked': '5208.92316',\n",
       " 'executed_volume': '0',\n",
       " 'trades_count': 0}"
      ]
     },
     "execution_count": 27,
     "metadata": {},
     "output_type": "execute_result"
    }
   ],
   "source": [
    "m = hashlib.sha512()\n",
    "m.update(query_string)\n",
    "query_hash = m.hexdigest()\n",
    "\n",
    "payload = {\n",
    "    'access_key': access_key,\n",
    "    'nonce': str(uuid.uuid4()),\n",
    "    'query_hash': query_hash,\n",
    "    'query_hash_alg': 'SHA512',\n",
    "}\n",
    "\n",
    "jwt_token = jwt.encode(payload, secret_key)\n",
    "authorization = 'Bearer {}'.format(jwt_token)\n",
    "headers = {\n",
    "  'Authorization': authorization,\n",
    "}\n",
    "\n",
    "# 여기 요청에 따라 post 와 get이 다를 수 있다.\n",
    "# try:\n",
    "#   res = requests.get(server_url + _url, params=params, headers=headers)\n",
    "#   # res.json()\n",
    "# except Exception as e:\n",
    "#   print('여기선 post임', e)\n",
    "#   res = requests.post(server_url + _url, params=params, headers=headers)\n",
    "#   # res.json()  \n",
    "# finally:\n",
    "#   print(res.json()  )\n",
    "# 주문취소시. rest\n",
    "res = requests.delete(server_url + _url, params=params, headers=headers)\n",
    "res.json()"
   ]
  },
  {
   "cell_type": "code",
   "execution_count": 7,
   "metadata": {},
   "outputs": [],
   "source": [
    "params = {\n",
    "    'states[]': ['done', 'cancel']\n",
    "}\n",
    "\n",
    "url_to = server_url + '/v1/orders'\n",
    "query_string = unquote(urlencode(params, doseq=True)).encode(\"utf-8\")"
   ]
  },
  {
   "cell_type": "code",
   "execution_count": 33,
   "metadata": {},
   "outputs": [
    {
     "name": "stdout",
     "output_type": "stream",
     "text": [
      "[{\"market\":\"KRW-BTC\",\"candle_date_time_utc\":\"2024-03-17T06:55:00\",\"candle_date_time_kst\":\"2024-03-17T15:55:00\",\"opening_price\":94913000.00000000,\"high_price\":94934000.00000000,\"low_price\":94897000.00000000,\"trade_price\":94897000.00000000,\"timestamp\":1710658519833,\"candle_acc_trade_price\":269948452.94615000,\"candle_acc_trade_volume\":2.84437056,\"unit\":1},{\"market\":\"KRW-BTC\",\"candle_date_time_utc\":\"2024-03-17T06:54:00\",\"candle_date_time_kst\":\"2024-03-17T15:54:00\",\"opening_price\":95003000.00000000,\"high_price\":95005000.00000000,\"low_price\":94900000.00000000,\"trade_price\":94934000.00000000,\"timestamp\":1710658499838,\"candle_acc_trade_price\":4704776410.72751000,\"candle_acc_trade_volume\":49.52985989,\"unit\":1},{\"market\":\"KRW-BTC\",\"candle_date_time_utc\":\"2024-03-17T06:53:00\",\"candle_date_time_kst\":\"2024-03-17T15:53:00\",\"opening_price\":95014000.00000000,\"high_price\":95014000.00000000,\"low_price\":95000000.00000000,\"trade_price\":95004000.00000000,\"timestamp\":1710658439950,\"candle_acc_trade_price\":1277416347.63423000,\"candle_acc_trade_volume\":13.44606049,\"unit\":1},{\"market\":\"KRW-BTC\",\"candle_date_time_utc\":\"2024-03-17T06:52:00\",\"candle_date_time_kst\":\"2024-03-17T15:52:00\",\"opening_price\":95050000.00000000,\"high_price\":95077000.00000000,\"low_price\":95010000.00000000,\"trade_price\":95014000.00000000,\"timestamp\":1710658379935,\"candle_acc_trade_price\":496706249.54364000,\"candle_acc_trade_volume\":5.22752125,\"unit\":1},{\"market\":\"KRW-BTC\",\"candle_date_time_utc\":\"2024-03-17T06:51:00\",\"candle_date_time_kst\":\"2024-03-17T15:51:00\",\"opening_price\":95040000.00000000,\"high_price\":95077000.00000000,\"low_price\":95001000.00000000,\"trade_price\":95020000.00000000,\"timestamp\":1710658319611,\"candle_acc_trade_price\":731753853.73775000,\"candle_acc_trade_volume\":7.70114610,\"unit\":1}]\n"
     ]
    }
   ],
   "source": [
    "import requests\n",
    "\n",
    "url = \"https://api.upbit.com/v1/candles/minutes/1?market=KRW-BTC&count=5\"\n",
    "\n",
    "headers = {\"accept\": \"application/json\"}\n",
    "\n",
    "response = requests.get(url, headers=headers)\n",
    "\n",
    "print(response.text)\n",
    "\n",
    "\n",
    "\n",
    "\n"
   ]
  },
  {
   "cell_type": "code",
   "execution_count": 35,
   "metadata": {},
   "outputs": [
    {
     "name": "stdout",
     "output_type": "stream",
     "text": [
      "[{\"market\":\"KRW-BTC\",\"trade_date\":\"20240317\",\"trade_time\":\"070022\",\"trade_date_kst\":\"20240317\",\"trade_time_kst\":\"160022\",\"trade_timestamp\":1710658822375,\"opening_price\":96769000.00000000,\"high_price\":97836000.00000000,\"low_price\":94328000.00000000,\"trade_price\":94593000.00000000,\"prev_closing_price\":96767000.00000000,\"change\":\"FALL\",\"change_price\":2174000.00000000,\"change_rate\":0.0224663367,\"signed_change_price\":-2174000.00000000,\"signed_change_rate\":-0.0224663367,\"trade_volume\":0.00435260,\"acc_trade_price\":408991383624.3406700000000000,\"acc_trade_price_24h\":925731555215.49182000,\"acc_trade_volume\":4262.92935906,\"acc_trade_volume_24h\":9517.47515904,\"highest_52_week_price\":105000000.00000000,\"highest_52_week_date\":\"2024-03-14\",\"lowest_52_week_price\":32510000.00000000,\"lowest_52_week_date\":\"2023-06-15\",\"timestamp\":1710658822389}]\n"
     ]
    }
   ],
   "source": [
    "import requests\n",
    "\n",
    "url = \"https://api.upbit.com/v1/ticker?markets=KRW-BTC\"\n",
    "\n",
    "headers = {\"accept\": \"application/json\"}\n",
    "\n",
    "response = requests.get(url, headers=headers)\n",
    "\n",
    "print(response.text)"
   ]
  }
 ],
 "metadata": {
  "kernelspec": {
   "display_name": "env_310",
   "language": "python",
   "name": "python3"
  },
  "language_info": {
   "codemirror_mode": {
    "name": "ipython",
    "version": 3
   },
   "file_extension": ".py",
   "mimetype": "text/x-python",
   "name": "python",
   "nbconvert_exporter": "python",
   "pygments_lexer": "ipython3",
   "version": "3.10.13"
  }
 },
 "nbformat": 4,
 "nbformat_minor": 2
}
